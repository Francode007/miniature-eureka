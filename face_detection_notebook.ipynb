{
  "nbformat": 4,
  "nbformat_minor": 0,
  "metadata": {
    "coursera": {
      "course_slug": "convolutional-neural-networks",
      "graded_item_id": "OMdut",
      "launcher_item_id": "bbBOL"
    },
    "kernelspec": {
      "display_name": "Python 3",
      "language": "python",
      "name": "python3"
    },
    "language_info": {
      "codemirror_mode": {
        "name": "ipython",
        "version": 3
      },
      "file_extension": ".py",
      "mimetype": "text/x-python",
      "name": "python",
      "nbconvert_exporter": "python",
      "pygments_lexer": "ipython3",
      "version": "3.6.0"
    },
    "colab": {
      "name": "face_detection_notebook.ipynb",
      "provenance": [],
      "collapsed_sections": [],
      "include_colab_link": true
    }
  },
  "cells": [
    {
      "cell_type": "markdown",
      "metadata": {
        "id": "view-in-github",
        "colab_type": "text"
      },
      "source": [
        "<a href=\"https://colab.research.google.com/github/Francode007/miniature-eureka/blob/master/face_detection_notebook.ipynb\" target=\"_parent\"><img src=\"https://colab.research.google.com/assets/colab-badge.svg\" alt=\"Open In Colab\"/></a>"
      ]
    },
    {
      "cell_type": "markdown",
      "metadata": {
        "id": "c8uf5M5waR9c"
      },
      "source": [
        "## Import libraries\n",
        "Run the following cell to load the packages and dependencies that you will find useful as you build the object detector!"
      ]
    },
    {
      "cell_type": "code",
      "metadata": {
        "id": "WpYATbyJGXBF",
        "outputId": "6c60cf75-50ce-43ad-9d37-c78405823091",
        "colab": {
          "base_uri": "https://localhost:8080/",
          "height": 100
        }
      },
      "source": [
        "%tensorflow_version 1.x #to be executed only when you have both working tf 1 and tf 2. We are using tf1 in this"
      ],
      "execution_count": 1,
      "outputs": [
        {
          "output_type": "stream",
          "text": [
            "`%tensorflow_version` only switches the major version: 1.x or 2.x.\n",
            "You set: `1.x #to be executed only when you have both working tf 1 and tf 2. We are using tf1 in this`. This will be interpreted as: `1.x`.\n",
            "\n",
            "\n",
            "TensorFlow 1.x selected.\n"
          ],
          "name": "stdout"
        }
      ]
    },
    {
      "cell_type": "code",
      "metadata": {
        "id": "hKikO9C9aR9d",
        "outputId": "84c799a4-64f5-42fc-9875-db65b059acb1",
        "colab": {
          "base_uri": "https://localhost:8080/",
          "height": 33
        }
      },
      "source": [
        "import argparse\n",
        "import os\n",
        "import matplotlib.pyplot as plt\n",
        "from matplotlib.pyplot import imshow\n",
        "import scipy.io\n",
        "import scipy.misc\n",
        "import numpy as np\n",
        "import pandas as pd\n",
        "import PIL\n",
        "import tensorflow as tf\n",
        "from keras import backend as K\n",
        "from keras.layers import Input, Lambda, Conv2D\n",
        "\n",
        "\n",
        "%matplotlib inline"
      ],
      "execution_count": 2,
      "outputs": [
        {
          "output_type": "stream",
          "text": [
            "Using TensorFlow backend.\n"
          ],
          "name": "stderr"
        }
      ]
    },
    {
      "cell_type": "markdown",
      "metadata": {
        "id": "QySTzBvWaR9m"
      },
      "source": [
        "## 1 - Problem Statement\n",
        "\n",
        "\n",
        "In this exercise, you will learn how \"You Only Look Once\" (YOLO) performs face detection. Because the YOLO model is very computationally expensive to train, we will load pre-trained weights for you to use. You will have to complete the functions today. All these you have learned the previous week, this should serve as a good refresher."
      ]
    },
    {
      "cell_type": "markdown",
      "metadata": {
        "id": "aco8SeraaR9n"
      },
      "source": [
        "## 2 - YOLO"
      ]
    },
    {
      "cell_type": "markdown",
      "metadata": {
        "id": "V8BAKLDraR9o"
      },
      "source": [
        "\"You Only Look Once\" (YOLO) is a popular algorithm because it achieves high accuracy while also being able to run in real-time. This algorithm \"only looks once\" at the image in the sense that it requires only one forward propagation pass through the network to make predictions. After non-max suppression, it then outputs recognized objects together with the bounding boxes.\n",
        "\n",
        "### 2.1 - Model details\n",
        "\n",
        "#### Outputs\n",
        "\n",
        "- The **output** is a list of bounding boxes. Each bounding box is represented by 6 numbers $(p_c, b_x, b_y, b_h, b_w)$ as explained above. Each bounding box is then represented by 5 numbers. \n",
        "\n",
        "#### Anchor Boxes\n",
        "* Anchor boxes are chosen by exploring the training data to choose reasonable height/width ratios that represent the different face types/angles.\n",
        "* The dimension for anchor boxes is the second to last dimension in the encoding: $(m, n_H,n_W,anchors,classes)$.\n",
        "* The YOLO architecture is: IMAGE (m in number)-> DEEP CNN -> ENCODING (m, 19, 19, 5, 5).  \n",
        "\n",
        "\n"
      ]
    },
    {
      "cell_type": "markdown",
      "metadata": {
        "id": "6IqMvC1TaR9p"
      },
      "source": [
        "Since we are using 5 anchor boxes, each of the 19 x19 cells thus encodes information about 5 boxes. Anchor boxes are defined only by their width and height.\n",
        "\n",
        "For simplicity, we will flatten the last two last dimensions of the shape (19, 19, 5, 5) encoding. So the output of the Deep CNN is (19, 19, 25).\n",
        "\n"
      ]
    },
    {
      "cell_type": "markdown",
      "metadata": {
        "id": "alxYdF07aR9r"
      },
      "source": [
        "\n",
        "\n",
        "#### Non-Max suppression\n",
        "In the figure above, we plotted only boxes for which the model had assigned a high probability, but this is still too many boxes. You'd like to reduce the algorithm's output to a much smaller number of detected objects.  \n",
        "\n",
        "To do so, you'll use **non-max suppression**. Specifically, you'll carry out these steps: \n",
        "- Get rid of boxes with a low score (meaning, the box is not very confident about detecting a class; either due to the low probability of any object, or low probability of this particular class).\n",
        "- Select only one box when several boxes overlap with each other and detect the same object.\n",
        "\n"
      ]
    },
    {
      "cell_type": "markdown",
      "metadata": {
        "id": "HWlQcu6BaR9s"
      },
      "source": [
        "### 2.2 - Filtering with a threshold on class scores\n",
        "\n",
        "You are going to first apply a filter by thresholding. You would like to get rid of any box for which the class \"score\" is less than a chosen threshold. \n",
        "\n",
        "The model gives you a total of 19x19x5x5 numbers, with each box described by 5 number. It is convenient to rearrange the (19,19,5,5) (or (19,19,25)) dimensional tensor into the following variables:  \n",
        "- `box_confidence`: tensor of shape $(19 \\times 19, 5, 1)$ containing $p_c$ (confidence probability that there's some object) for each of the 5 boxes predicted in each of the 19x19 cells.\n",
        "- `boxes`: tensor of shape $(19 \\times 19, 5, 4)$ containing the midpoint and dimensions $(b_x, b_y, b_h, b_w)$ for each of the 5 boxes in each cell.\n",
        "- `box_probs`: tensor of shape $(19 \\times 19, 5, 1)$ containing the \"class probability\" for face\n",
        "\n",
        "####  Implement `yolo_filter_boxes()`.\n",
        "1. Compute box scores by doing the elementwise product ($p \\times c$).  \n",
        "The following code may help you choose the right operator: \n",
        "```python\n",
        "a = np.random.randn(19*19, 5, 1)\n",
        "b = np.random.randn(19*19, 5, 5)\n",
        "c = a * b # shape of c will be (19*19, 5, 5)\n",
        "```\n",
        "\n",
        "\n",
        "\n",
        "\n",
        "2. Create a mask by using a threshold. As a reminder: `([0.9, 0.3, 0.4, 0.5, 0.1] < 0.4)` returns: `[False, True, False, False, True]`. The mask should be True for the boxes you want to keep. \n",
        "\n",
        "3. Use TensorFlow to apply the mask to `box_class_scores`, `boxes` and `box_classes` to filter out the boxes we don't want. You should be left with just the subset of boxes you want to keep.   \n",
        "\n",
        "    **Useful reference**:\n",
        "    * [boolean mask](https://www.tensorflow.org/api_docs/python/tf/boolean_mask)  \n",
        "\n",
        "   **Additional Hints**:  \n",
        "    * For the `tf.boolean_mask`, we can keep the default `axis=None`.\n",
        "\n",
        "**Reminder**: to call a Keras function, you should use `K.function(...)`."
      ]
    },
    {
      "cell_type": "code",
      "metadata": {
        "id": "B95kk-wxaR9t"
      },
      "source": [
        "\n",
        "\n",
        "def yolo_filter_boxes(box_confidence, boxes, box_class_probs, threshold = .6):\n",
        "    \"\"\"Filters YOLO boxes by thresholding on object and class confidence.\n",
        "    \n",
        "    Arguments:\n",
        "    box_confidence -- tensor of shape (19, 19, 5, 1)\n",
        "    boxes -- tensor of shape (19, 19, 5, 4)\n",
        "    box_probs -- tensor of shape (19, 19, 5, 1)\n",
        "    threshold -- real value, if [ highest class probability score < threshold], then get rid of the corresponding box\n",
        "    \n",
        "    Returns:\n",
        "    scores -- tensor of shape (None,), containing the class probability score for selected boxes\n",
        "    boxes -- tensor of shape (None, 4), containing (b_x, b_y, b_h, b_w) coordinates of selected boxes    \n",
        "    Note: \"None\" is here because you don't know the exact number of selected boxes, as it depends on the threshold. \n",
        "    For example, the actual output size of scores would be (10,) if there are 10 boxes.\n",
        "    \"\"\"\n",
        "    \n",
        "    # Step 1: Compute box scores\n",
        "    box_scores = box_confidence*box_class_probs\n",
        "    box_class_scores=K.max(box_scores, axis=-1)\n",
        "    \n",
        "    # Step 2: Create a filtering mask based on \"box_scores\" by using \"threshold\". The mask should have the\n",
        "    # same dimension as box_scores, and be True for the boxes you want to keep (with probability >= threshold)\n",
        "    mask = K.greater_equal(box_class_scores, threshold)\n",
        "    \n",
        "    # Step 3: Apply the mask to box_scores and boxes\n",
        "    scores= tf.boolean_mask(box_class_scores,mask)\n",
        "    boxes = tf.boolean_mask(box_scores,mask)\n",
        "    \n",
        "    \n",
        "    \n",
        "    return scores, boxes"
      ],
      "execution_count": 5,
      "outputs": []
    },
    {
      "cell_type": "code",
      "metadata": {
        "id": "vbABMi2UaR9z",
        "outputId": "1d344fe3-0920-49b7-9df1-7ba637489f15",
        "colab": {
          "base_uri": "https://localhost:8080/",
          "height": 154
        }
      },
      "source": [
        "with  tf.compat.v1.Session() as test_a:\n",
        "    box_confidence = tf.random_normal([19, 19, 5, 1], mean=1, stddev=4, seed = 1)\n",
        "    boxes = tf.random_normal([19, 19, 5, 4], mean=1, stddev=4, seed = 1)\n",
        "    box_class_probs = tf.random_normal([19, 19, 5, 1], mean=1, stddev=4, seed = 1)\n",
        "    scores, boxes= yolo_filter_boxes(box_confidence, boxes, box_class_probs, threshold = 0.5)\n",
        "    print(\"scores[2] = \" + str(scores[2].eval()))\n",
        "    print(\"boxes[2] = \" + str(boxes[2].eval()))\n",
        "    print(\"scores.shape = \" + str(scores.shape))\n",
        "    print(\"boxes.shape = \" + str(boxes.shape))"
      ],
      "execution_count": 6,
      "outputs": [
        {
          "output_type": "stream",
          "text": [
            "WARNING:tensorflow:From /tensorflow-1.15.2/python3.6/tensorflow_core/python/ops/array_ops.py:1475: where (from tensorflow.python.ops.array_ops) is deprecated and will be removed in a future version.\n",
            "Instructions for updating:\n",
            "Use tf.where in 2.0, which has the same broadcast rule as np.where\n",
            "scores[2] = 1.5909218\n",
            "boxes[2] = [7.3031797]\n",
            "scores.shape = (?,)\n",
            "boxes.shape = (?, 1)\n"
          ],
          "name": "stdout"
        }
      ]
    },
    {
      "cell_type": "markdown",
      "metadata": {
        "id": "PhZ8ExpFaR97"
      },
      "source": [
        "**Note** In the test for `yolo_filter_boxes`, we're using random numbers to test the function.  In real data, the `box_probs` would contain non-zero values between 0 and 1 for the probabilities.  The box coordinates in `boxes` would also be chosen so that lengths and heights are non-negative."
      ]
    },
    {
      "cell_type": "markdown",
      "metadata": {
        "id": "ybR2sUBjaR98"
      },
      "source": [
        "### 2.3 - Non-max suppression ###\n",
        "\n",
        "Even after filtering by thresholding over the class scores, you still end up with a lot of overlapping boxes. A second filter for selecting the right boxes is called non-maximum suppression (NMS). "
      ]
    },
    {
      "cell_type": "code",
      "metadata": {
        "id": "FV179kPuKRkI"
      },
      "source": [
        "def iou(box1, box2):\n",
        "    \"\"\"Implement the intersection over union (IoU) between box1 and box2\n",
        "    \n",
        "    Arguments:\n",
        "    box1 -- first box, list object with coordinates (box1_x1, box1_y1, box1_x2, box_1_y2)\n",
        "    box2 -- second box, list object with coordinates (box2_x1, box2_y1, box2_x2, box2_y2)\n",
        "    \"\"\"\n",
        "\n",
        "    # Assign variable names to coordinates for clarity\n",
        "    xi1 = np.maximum(box1[0], box2[0])\n",
        "    yi1 = np.maximum(box1[1], box2[1])\n",
        "    xi2 = np.minimum(box1[2], box2[2])\n",
        "    yi2 = np.minimum(box1[3], box2[3])\n",
        "    # Calculate the (yi1, xi1, yi2, xi2) coordinates of the intersection of box1 and box2. Calculate its Area.\n",
        "    inter_area = max(xi2-xi1, 0)*max(yi2-yi1, 0)\n",
        "    # Calculate the Union area by using Formula: Union(A,B) = A + B - Inter(A,B)\n",
        "    box1_area = (box1[2]-box1[0])*(box1[3]-box1[1])\n",
        "    box2_area = (box2[2]-box2[0])*(box2[3]-box2[1])\n",
        "    union_area = box1_area + box2_area - inter_area\n",
        "\n",
        "    # compute the IoU\n",
        "    iou = float(inter_area)/float(union_area)\n",
        "    return iou"
      ],
      "execution_count": 7,
      "outputs": []
    },
    {
      "cell_type": "code",
      "metadata": {
        "id": "7ZMYHz46aR-F",
        "outputId": "a24a07f4-53a1-4304-995c-3b4e5b035094",
        "colab": {
          "base_uri": "https://localhost:8080/",
          "height": 84
        }
      },
      "source": [
        "## Test case 1: boxes intersect\n",
        "box1 = (2, 1, 4, 3)\n",
        "box2 = (1, 2, 3, 4) \n",
        "print(\"iou for intersecting boxes = \" + str(iou(box1, box2)))\n",
        "\n",
        "## Test case 2: boxes do not intersect\n",
        "box1 = (1,2,3,4)\n",
        "box2 = (5,6,7,8)\n",
        "print(\"iou for non-intersecting boxes = \" + str(iou(box1,box2)))\n",
        "\n",
        "## Test case 3: boxes intersect at vertices only\n",
        "box1 = (1,1,2,2)\n",
        "box2 = (2,2,3,3)\n",
        "print(\"iou for boxes that only touch at vertices = \" + str(iou(box1,box2)))\n",
        "\n",
        "## Test case 4: boxes intersect at edge only\n",
        "box1 = (1,1,3,3)\n",
        "box2 = (2,3,3,4)\n",
        "print(\"iou for boxes that only touch at edges = \" + str(iou(box1,box2)))"
      ],
      "execution_count": 8,
      "outputs": [
        {
          "output_type": "stream",
          "text": [
            "iou for intersecting boxes = 0.14285714285714285\n",
            "iou for non-intersecting boxes = 0.0\n",
            "iou for boxes that only touch at vertices = 0.0\n",
            "iou for boxes that only touch at edges = 0.0\n"
          ],
          "name": "stdout"
        }
      ]
    },
    {
      "cell_type": "markdown",
      "metadata": {
        "id": "5Ur1GJSWaR-K"
      },
      "source": [
        "**Expected Output**:\n",
        "\n",
        "```\n",
        "iou for intersecting boxes = 0.14285714285714285\n",
        "iou for non-intersecting boxes = 0.0\n",
        "iou for boxes that only touch at vertices = 0.0\n",
        "iou for boxes that only touch at edges = 0.0\n",
        "```"
      ]
    },
    {
      "cell_type": "markdown",
      "metadata": {
        "id": "pUWGdVuIaR-L"
      },
      "source": [
        "#### YOLO non-max suppression\n",
        "\n",
        "You are now ready to implement non-max suppression. The key steps are: \n",
        "1. Select the box that has the highest score.\n",
        "2. Compute the overlap of this box with all other boxes, and remove boxes that overlap significantly (iou >= `iou_threshold`).\n",
        "3. Go back to step 1 and iterate until there are no more boxes with a lower score than the currently selected box.\n",
        "\n",
        "This will remove all boxes that have a large overlap with the selected boxes. Only the \"best\" boxes remain.\n",
        "\n",
        "\n",
        "\n",
        "- [tf.image.non_max_suppression()](https://www.tensorflow.org/api_docs/python/tf/image/non_max_suppression)\n",
        "```\n",
        "tf.image.non_max_suppression(\n",
        "    boxes,\n",
        "    scores,\n",
        "    max_output_size,\n",
        "    iou_threshold=0.5,\n",
        "    name=None\n",
        ")\n",
        "```\n",
        "Note that in the version of tensorflow used here, there is no parameter `score_threshold` (it's shown in the documentation for the latest version) so trying to set this value will result in an error message: *got an unexpected keyword argument 'score_threshold.*\n",
        "\n",
        "- [K.gather()](https://www.tensorflow.org/api_docs/python/tf/keras/backend/gather)  \n",
        "Even though the documentation shows `tf.keras.backend.gather()`, you can use `keras.gather()`.  \n",
        "```\n",
        "keras.gather(\n",
        "    reference,\n",
        "    indices\n",
        ")\n",
        "```"
      ]
    },
    {
      "cell_type": "code",
      "metadata": {
        "id": "NwyrTMuVL3PQ"
      },
      "source": [
        "def yolo_non_max_suppression(scores, boxes,max_boxes = 10, iou_threshold = 0.5):\n",
        "    \"\"\"\n",
        "    Applies Non-max suppression (NMS) to set of boxes\n",
        "    \n",
        "    Arguments:\n",
        "    scores -- tensor of shape (None,), output of yolo_filter_boxes()\n",
        "    boxes -- tensor of shape (None, 4), output of yolo_filter_boxes() that have been scaled to the image size (see later)\n",
        "    max_boxes -- integer, maximum number of predicted boxes you'd like\n",
        "    iou_threshold -- real value, \"intersection over union\" threshold used for NMS filtering\n",
        "    \n",
        "    Returns:\n",
        "    scores -- tensor of shape (, None), predicted score for each box\n",
        "    boxes -- tensor of shape (4, None), predicted box coordinates\n",
        "    \n",
        "    Note: The \"None\" dimension of the output tensors has obviously to be less than max_boxes. Note also that this\n",
        "    function will transpose the shapes of scores, boxes, classes. This is made for convenience.\n",
        "    \"\"\"\n",
        "    \n",
        "    # create max_box_tensor to be used in tf.image.non_max_suppression()\n",
        "    max_boxes_tensor = K.variable(max_boxes, dtype='int32')\n",
        "    # initialize variable max_boxes_tensor\n",
        "    K.get_session().run(tf.variables_initializer([max_boxes_tensor]))\n",
        "    # Use tf.image.non_max_suppression() to get the list of indices corresponding to boxes you keep\n",
        "    nms_indices = tf.image.non_max_suppression(boxes, scores, max_boxes_tensor, iou_threshold=iou_threshold)\n",
        "    # Use K.gather() to select only nms_indices from scores, boxes and classes\n",
        "    scores = K.gather(scores, nms_indices)\n",
        "    boxes = K.gather(boxes, nms_indices)\n",
        "    \n",
        "    return scores, boxes"
      ],
      "execution_count": 9,
      "outputs": []
    },
    {
      "cell_type": "code",
      "metadata": {
        "id": "KColmY4UaR-R",
        "outputId": "3638d930-721d-4e75-dbe2-e6974d9fb575",
        "colab": {
          "base_uri": "https://localhost:8080/",
          "height": 154
        }
      },
      "source": [
        "with tf.Session() as test_b:\n",
        "    scores = tf.random_normal([54,], mean=1, stddev=4, seed = 1)\n",
        "    boxes = tf.random_normal([54, 4], mean=1, stddev=4, seed = 1)\n",
        "    scores, boxes= yolo_non_max_suppression(scores, boxes)\n",
        "    print(\"scores[2] = \" + str(scores[2].eval()))\n",
        "    print(\"boxes[2] = \" + str(boxes[2].eval()))\n",
        "    print(\"scores.shape = \" + str(scores.eval().shape))\n",
        "    print(\"boxes.shape = \" + str(boxes.eval().shape))"
      ],
      "execution_count": 10,
      "outputs": [
        {
          "output_type": "stream",
          "text": [
            "WARNING:tensorflow:From /tensorflow-1.15.2/python3.6/tensorflow_core/python/ops/resource_variable_ops.py:1630: calling BaseResourceVariable.__init__ (from tensorflow.python.ops.resource_variable_ops) with constraint is deprecated and will be removed in a future version.\n",
            "Instructions for updating:\n",
            "If using Keras pass *_constraint arguments to layers.\n",
            "scores[2] = 6.938395\n",
            "boxes[2] = [-5.299932    3.1379814   4.450367    0.95942086]\n",
            "scores.shape = (10,)\n",
            "boxes.shape = (10, 4)\n"
          ],
          "name": "stdout"
        }
      ]
    },
    {
      "cell_type": "markdown",
      "metadata": {
        "id": "Mp_P4auVaR-X"
      },
      "source": [
        "### 2.4 Wrapping up the filtering\n",
        "\n",
        "It's time to implement a function taking the output of the deep CNN (the 19x19x5x5 dimensional encoding) and filtering through all the boxes using the functions you've just implemented. \n",
        "\n",
        " Implement `yolo_eval()` which takes the output of the YOLO encoding and filters the boxes using score threshold and NMS. There's just one last implementational detail you have to know. There're a few ways of representing boxes, such as via their corners or via their midpoint and height/width. YOLO converts between a few such formats at different times, using the following functions (which we have provided): \n",
        "\n",
        "```python\n",
        "boxes = yolo_boxes_to_corners(box_xy, box_wh) \n",
        "```\n",
        "which converts the yolo box coordinates (x,y,w,h) to box corners' coordinates (x1, y1, x2, y2) to fit the input of `yolo_filter_boxes`\n",
        "```python\n",
        "boxes = scale_boxes(boxes, image_shape)\n",
        "```\n",
        "YOLO's network was trained to run on 608x608 images. If you are testing this data on a different size image--for example, the car detection dataset had 720x1280 images--this step rescales the boxes so that they can be plotted on top of the original 720x1280 image.  \n",
        "\n",
        "Don't worry about these two functions; we'll show you where they need to be called.  "
      ]
    },
    {
      "cell_type": "code",
      "metadata": {
        "id": "t2M-vn9IuF-V"
      },
      "source": [
        "#Do not make changes in these functions\n",
        "def scale_boxes(boxes, image_shape):\n",
        "    \"\"\" Scales the predicted boxes in order to be drawable on the image\"\"\"\n",
        "    height = image_shape[0]\n",
        "    width = image_shape[1]\n",
        "    image_dims = K.stack([height, width, height, width])\n",
        "    image_dims = K.reshape(image_dims, [1, 4])\n",
        "    boxes = boxes * image_dims\n",
        "    return boxes\n",
        "def yolo_boxes_to_corners(box_xy, box_wh):\n",
        "    \"\"\"Convert YOLO box predictions to bounding box corners.\"\"\"\n",
        "    box_mins = box_xy - (box_wh / 2.)\n",
        "    box_maxes = box_xy + (box_wh / 2.)\n",
        "\n",
        "    return K.concatenate([\n",
        "        box_mins[..., 1:2],  # y_min\n",
        "        box_mins[..., 0:1],  # x_min\n",
        "        box_maxes[..., 1:2],  # y_max\n",
        "        box_maxes[..., 0:1]  # x_max\n",
        "    ])"
      ],
      "execution_count": 11,
      "outputs": []
    },
    {
      "cell_type": "code",
      "metadata": {
        "id": "9BWKGYzIM0XX"
      },
      "source": [
        "def yolo_eval(yolo_outputs, image_shape = (720., 1280.), max_boxes=10, score_threshold=.6, iou_threshold=.5):\n",
        "    \"\"\"\n",
        "    Converts the output of YOLO encoding (a lot of boxes) to your predicted boxes along with their scores, box coordinates and classes.\n",
        "    \n",
        "    Arguments:\n",
        "    yolo_outputs -- output of the encoding model (for image_shape of (608, 608, 3)), contains 4 tensors:\n",
        "                    box_confidence: tensor of shape (None, 19, 19, 5, 1)\n",
        "                    box_xy: tensor of shape (None, 19, 19, 5, 2)\n",
        "                    box_wh: tensor of shape (None, 19, 19, 5, 2)\n",
        "                    box_probs: tensor of shape (None, 19, 19, 5, 1)\n",
        "    image_shape -- tensor of shape (2,) containing the input shape, in this notebook we use (608., 608.) (has to be float32 dtype)\n",
        "    max_boxes -- integer, maximum number of predicted boxes you'd like\n",
        "    score_threshold -- real value, if [ highest probability score < threshold], then get rid of the corresponding box\n",
        "    iou_threshold -- real value, \"intersection over union\" threshold used for NMS filtering\n",
        "    \n",
        "    Returns:\n",
        "    scores -- tensor of shape (None, ), predicted score for each box\n",
        "    boxes -- tensor of shape (None, 4), predicted box coordinates\n",
        "    \"\"\"\n",
        "    \n",
        "    # Retrieve outputs of the YOLO model (≈1 line)\n",
        "    box_confidence, box_xy, box_wh, box_class_probs = yolo_outputs\n",
        "    # Convert boxes to be ready for filtering functions (convert boxes box_xy and box_wh to corner coordinates)\n",
        "    boxes = yolo_boxes_to_corners(box_xy, box_wh)\n",
        "    # Use one of the functions you've implemented to perform Score-filtering with a threshold of score_threshold (≈1 line)\n",
        "    scores, boxes = yolo_filter_boxes(box_confidence, boxes, box_class_probs, threshold=score_threshold)\n",
        "    # Scale boxes back to original image shape.\n",
        "    boxes = scale_boxes(boxes, image_shape)\n",
        "    # Use one of the functions you've implemented to perform Non-max suppression with \n",
        "    # maximum number of boxes set to max_boxes and a threshold of iou_threshold (≈1 line)\n",
        "    scores, boxes = yolo_non_max_suppression(scores, boxes, max_boxes=max_boxes, iou_threshold=iou_threshold)\n",
        "\n",
        "    return scores, boxes"
      ],
      "execution_count": 12,
      "outputs": []
    },
    {
      "cell_type": "code",
      "metadata": {
        "id": "JhcykafoaR-e",
        "outputId": "5d01441b-448b-4592-ac2f-7b182695735a",
        "colab": {
          "base_uri": "https://localhost:8080/",
          "height": 84
        }
      },
      "source": [
        "with tf.Session() as test_b:\n",
        "    yolo_outputs = (tf.random_normal([19, 19, 5, 1], mean=1, stddev=4, seed = 1),\n",
        "                    tf.random_normal([19, 19, 5, 2], mean=1, stddev=4, seed = 1),\n",
        "                    tf.random_normal([19, 19, 5, 2], mean=1, stddev=4, seed = 1),\n",
        "                    tf.random_normal([19, 19, 5, 1], mean=1, stddev=4, seed = 1))\n",
        "    scores, boxes= yolo_eval(yolo_outputs)\n",
        "    print(\"scores[2] = \" + str(scores[2].eval()))\n",
        "    print(\"boxes[2] = \" + str(boxes[2].eval()))\n",
        "    print(\"scores.shape = \" + str(scores.eval().shape))\n",
        "    print(\"boxes.shape = \" + str(boxes.eval().shape))"
      ],
      "execution_count": 13,
      "outputs": [
        {
          "output_type": "stream",
          "text": [
            "scores[2] = 172.48634\n",
            "boxes[2] = [146204.58 259919.23 146204.58 259919.23]\n",
            "scores.shape = (10,)\n",
            "boxes.shape = (10, 4)\n"
          ],
          "name": "stdout"
        }
      ]
    },
    {
      "cell_type": "markdown",
      "metadata": {
        "id": "KPSpYtypaR-m"
      },
      "source": [
        "## 3 - Test YOLO pre-trained model on images"
      ]
    },
    {
      "cell_type": "markdown",
      "metadata": {
        "id": "FXeuyUh7TeL8"
      },
      "source": [
        "The next part would be given tomorrow, till then enjoy!!"
      ]
    },
    {
      "cell_type": "markdown",
      "metadata": {
        "id": "YKDm6t3xaR_Z"
      },
      "source": [
        "**References**: The ideas presented in this notebook came primarily from the two YOLO papers. The implementation here also took significant inspiration and used many components from Allan Zelener's GitHub repository. The pre-trained weights used in this exercise came from the official YOLO website. \n",
        "- Joseph Redmon, Santosh Divvala, Ross Girshick, Ali Farhadi - [You Only Look Once: Unified, Real-Time Object Detection](https://arxiv.org/abs/1506.02640) (2015)\n",
        "- Joseph Redmon, Ali Farhadi - [YOLO9000: Better, Faster, Stronger](https://arxiv.org/abs/1612.08242) (2016)\n",
        "- The official YOLO website (https://pjreddie.com/darknet/yolo/) "
      ]
    },
    {
      "cell_type": "code",
      "metadata": {
        "id": "wP5or1fqaR_c"
      },
      "source": [
        ""
      ],
      "execution_count": null,
      "outputs": []
    }
  ]
}